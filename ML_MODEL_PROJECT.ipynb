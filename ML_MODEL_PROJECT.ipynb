{
 "cells": [
  {
   "cell_type": "code",
   "execution_count": null,
   "id": "15a05f72",
   "metadata": {},
   "outputs": [],
   "source": [
    "import numpy as np\n",
    "import pandas as pd\n",
    "import ydata_profiling from profileReport   # generating profile report (all data)\n",
    "from sklearn.decomposition import PCA\n",
    "from sklearn.preprocessing import StandardScaler\n",
    "import matplotlib.pyplot as plt"
   ]
  },
  {
   "cell_type": "code",
   "execution_count": null,
   "id": "9caf1cec",
   "metadata": {},
   "outputs": [],
   "source": [
    "# Load pre-calculated vectors\n",
    "vectors = np.load('vectors.npy')  # Assuming vectors are stored in a .npy file , not stored becoz this .npy file is private file\n"
   ]
  },
  {
   "cell_type": "code",
   "execution_count": null,
   "id": "8c27b992",
   "metadata": {},
   "outputs": [],
   "source": [
    "prices = pd.read_csv('prices.csv')  # Historical prices corresponding to vectors"
   ]
  },
  {
   "cell_type": "code",
   "execution_count": null,
   "id": "fc2a35b9",
   "metadata": {},
   "outputs": [],
   "source": [
    "# Standardize the vectors\n",
    "scaler = StandardScaler()\n",
    "scaled_vectors = scaler.fit_transform(vectors)"
   ]
  },
  {
   "cell_type": "code",
   "execution_count": null,
   "id": "43b891f9",
   "metadata": {},
   "outputs": [],
   "source": [
    "# Perform PCA for visualization\n",
    "pca = PCA(n_components=2)\n",
    "pca_result = pca.fit_transform(scaled_vectors)"
   ]
  },
  {
   "cell_type": "code",
   "execution_count": null,
   "id": "b04684c0",
   "metadata": {},
   "outputs": [],
   "source": [
    "# Plot the PCA result\n",
    "plt.figure(figsize=(10, 7))\n",
    "plt.scatter(pca_result[:, 0], pca_result[:, 1], c='blue', alpha=0.5)\n",
    "plt.title('PCA of Stock Market Vectors')\n",
    "plt.xlabel('Principal Component 1')\n",
    "plt.ylabel('Principal Component 2')\n",
    "plt.show()"
   ]
  },
  {
   "cell_type": "code",
   "execution_count": null,
   "id": "a43ca8fe",
   "metadata": {},
   "outputs": [],
   "source": [
    "#trading logic based on vector analysis\n",
    "def trading_strategy(vectors, prices):\n",
    "    signals = []\n",
    "    for i in range(len(vectors) - 1):\n",
    "        # Example: Simple threshold strategy\n",
    "        if np.dot(vectors[i], vectors[i+1]) > 0.8:\n",
    "            signals.append('buy')\n",
    "        elif np.dot(vectors[i], vectors[i+1]) < -0.8:\n",
    "            signals.append('sell')\n",
    "        else:\n",
    "            signals.append('hold')\n",
    "    return signals"
   ]
  },
  {
   "cell_type": "code",
   "execution_count": null,
   "id": "cf45145d",
   "metadata": {},
   "outputs": [],
   "source": [
    "# Apply the trading strategy\n",
    "signals = trading_strategy(scaled_vectors, prices)"
   ]
  },
  {
   "cell_type": "code",
   "execution_count": null,
   "id": "26a7480b",
   "metadata": {},
   "outputs": [],
   "source": [
    "# Evaluate performance \n",
    "returns = []\n",
    "for i in range(len(signals)):\n",
    "    if signals[i] == 'buy':\n",
    "        returns.append(prices['Close'][i+1] - prices['Close'][i])\n",
    "    elif signals[i] == 'sell':\n",
    "        returns.append(prices['Close'][i] - prices['Close'][i+1])\n",
    "    else:\n",
    "        returns.append(0)"
   ]
  },
  {
   "cell_type": "code",
   "execution_count": null,
   "id": "8b7f5e38",
   "metadata": {},
   "outputs": [],
   "source": [
    "total_return = np.sum(returns)\n",
    "print(f'Total Return: {total_return}')"
   ]
  },
  {
   "cell_type": "code",
   "execution_count": null,
   "id": "9eaf59b4",
   "metadata": {},
   "outputs": [],
   "source": [
    "# Save the trading signals\n",
    "pd.DataFrame(signals, columns=['Signal']).to_csv('trading_signals.csv', index=False)"
   ]
  },
  {
   "cell_type": "code",
   "execution_count": null,
   "id": "68d0736c",
   "metadata": {},
   "outputs": [],
   "source": []
  },
  {
   "cell_type": "code",
   "execution_count": null,
   "id": "03ce1629",
   "metadata": {},
   "outputs": [],
   "source": []
  },
  {
   "cell_type": "code",
   "execution_count": null,
   "id": "e43085b0",
   "metadata": {},
   "outputs": [],
   "source": []
  },
  {
   "cell_type": "code",
   "execution_count": null,
   "id": "9b055c44",
   "metadata": {},
   "outputs": [],
   "source": []
  }
 ],
 "metadata": {
  "kernelspec": {
   "display_name": "Python 3 (ipykernel)",
   "language": "python",
   "name": "python3"
  },
  "language_info": {
   "codemirror_mode": {
    "name": "ipython",
    "version": 3
   },
   "file_extension": ".py",
   "mimetype": "text/x-python",
   "name": "python",
   "nbconvert_exporter": "python",
   "pygments_lexer": "ipython3",
   "version": "3.11.5"
  }
 },
 "nbformat": 4,
 "nbformat_minor": 5
}
